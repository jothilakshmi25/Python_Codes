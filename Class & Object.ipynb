{
 "cells": [
  {
   "cell_type": "markdown",
   "id": "c6181923",
   "metadata": {},
   "source": [
    "##### 1. Program to create a class Rectangle with attributes such as weight and height. Define a method to calculate the area and perimeter of the rectangle."
   ]
  },
  {
   "cell_type": "code",
   "execution_count": 1,
   "id": "533c0a2e",
   "metadata": {},
   "outputs": [],
   "source": [
    "class Rectangle:\n",
    "    def __init__(self,width,height):\n",
    "        self.w = width\n",
    "        self.h=height\n",
    "   \n",
    "    def Area(self):\n",
    "        print('Area of the Rectangle : ',self.w*self.h)\n",
    "        \n",
    "    def Perimeter(self):\n",
    "        print('Perimeter of the Rectangle :',2*(self.w+self.h))"
   ]
  },
  {
   "cell_type": "code",
   "execution_count": 2,
   "id": "a104c43e",
   "metadata": {},
   "outputs": [
    {
     "name": "stdout",
     "output_type": "stream",
     "text": [
      "Area of the Rectangle :  20\n",
      "Perimeter of the Rectangle : 18\n"
     ]
    }
   ],
   "source": [
    "c=Rectangle(4,5)\n",
    "c.Area()\n",
    "c.Perimeter()"
   ]
  },
  {
   "cell_type": "markdown",
   "id": "f1c98c2a",
   "metadata": {},
   "source": [
    "##### 2.Program to create a class Circle with attributes such as radius. Define a method to calculate area and Circumference of the circle"
   ]
  },
  {
   "cell_type": "code",
   "execution_count": 3,
   "id": "e7b23370",
   "metadata": {},
   "outputs": [],
   "source": [
    "class Circle:\n",
    "    def __init__(self,radius):\n",
    "        self.r=radius\n",
    "        \n",
    "    def Area(self):\n",
    "        print('Area of the Circle : ',3.14*self.r)\n",
    "        \n",
    "    def Circumference(self):\n",
    "        print('Circumference of the Circle: ',2*3.14*self.r)"
   ]
  },
  {
   "cell_type": "code",
   "execution_count": 4,
   "id": "a59f41f6",
   "metadata": {},
   "outputs": [
    {
     "name": "stdout",
     "output_type": "stream",
     "text": [
      "Area of the Circle :  15.700000000000001\n",
      "Circumference of the Circle:  31.400000000000002\n"
     ]
    }
   ],
   "source": [
    "v=Circle(5)\n",
    "v.Area()\n",
    "v.Circumference()"
   ]
  },
  {
   "cell_type": "markdown",
   "id": "35a02f23",
   "metadata": {},
   "source": [
    "##### 3.Program to create a class BankAccount with attributes such as balance and interest_rate. Define methods to deposit, withdraw, and calculate interest on the balance."
   ]
  },
  {
   "cell_type": "code",
   "execution_count": 2,
   "id": "6ef87fcd",
   "metadata": {},
   "outputs": [],
   "source": [
    "class BankAccount:\n",
    "    def __init__(self,balance,interest_rate):\n",
    "        self.b = balance\n",
    "        self.i = interest_rate\n",
    "        \n",
    "    def deposit(self):\n",
    "        amount=float(input('Enter the amount to be deposited :'))\n",
    "        self.b+=amount\n",
    "        print('Account Balance after deposit: ',self.b)\n",
    "        \n",
    "    def withdraw(self):\n",
    "        amount= float(input('Enter the amount to be withdraw : '))\n",
    "        if self.b>=amount:\n",
    "            self.b-=amount\n",
    "            print('Amount Balance after withdraw : ',self.b)\n",
    "        else:\n",
    "            print('Insufficient Balance')\n",
    "            \n",
    "    def interest(self):\n",
    "        print('The interest on the balance: ',self.b*(self.i/100))"
   ]
  },
  {
   "cell_type": "code",
   "execution_count": 3,
   "id": "9ef3cfd5",
   "metadata": {},
   "outputs": [
    {
     "name": "stdout",
     "output_type": "stream",
     "text": [
      "Enter the amount to be deposited :50000\n",
      "Account Balance after deposit:  50500.0\n",
      "Enter the amount to be withdraw : 500\n",
      "Amount Balance after withdraw :  50000.0\n",
      "The interest on the balance:  2500.0\n"
     ]
    }
   ],
   "source": [
    "b = BankAccount(500,5)\n",
    "b.deposit()\n",
    "b.withdraw()\n",
    "b.interest()"
   ]
  },
  {
   "cell_type": "markdown",
   "id": "2df70ca1",
   "metadata": {},
   "source": [
    "##### 4)Program to create a class called  Person with attributes name, age and gender. Include a method called Introduce that prints out a message introducing the person with their name, age and gender"
   ]
  },
  {
   "cell_type": "code",
   "execution_count": 5,
   "id": "5d363db6",
   "metadata": {},
   "outputs": [],
   "source": [
    "class Person:\n",
    "    def __init__(self,name,age,gender):\n",
    "        self.n=name\n",
    "        self.a=age\n",
    "        self.g = gender\n",
    "        \n",
    "    def Introduce(self):\n",
    "        print('Name : ',self.n)\n",
    "        print('Age : ',self.a)\n",
    "        print('Gender : ',self.g)"
   ]
  },
  {
   "cell_type": "code",
   "execution_count": 7,
   "id": "9fd02073",
   "metadata": {},
   "outputs": [
    {
     "name": "stdout",
     "output_type": "stream",
     "text": [
      "Name :  Jothi\n",
      "Age :  24\n",
      "Gender :  Female\n"
     ]
    }
   ],
   "source": [
    "i = Person('Jothi',24,'Female')\n",
    "i.Introduce()"
   ]
  },
  {
   "cell_type": "markdown",
   "id": "415d7d61",
   "metadata": {},
   "source": [
    "##### 5) Program to  create a class called Vehicle with attributes make,model and year. Include a method called start_engine that prints out a message indicating that engine has started"
   ]
  },
  {
   "cell_type": "code",
   "execution_count": 1,
   "id": "d23ce3e5",
   "metadata": {},
   "outputs": [],
   "source": [
    "class Vehicle:\n",
    "    def __init__(self, make, model, year):\n",
    "        self.make = make\n",
    "        self.model = model\n",
    "        self.year = year\n",
    "    def start_engine(self):\n",
    "        print('Make : ',self.make)\n",
    "        print('Model : ',self.model)\n",
    "        print('Year : ',self.year)\n",
    "        print('The Engine has started')"
   ]
  },
  {
   "cell_type": "code",
   "execution_count": 2,
   "id": "b6ecdf32",
   "metadata": {},
   "outputs": [
    {
     "name": "stdout",
     "output_type": "stream",
     "text": [
      "Make :  Thar\n",
      "Model :  LX\n",
      "Year :  2023\n",
      "The Engine has started\n"
     ]
    }
   ],
   "source": [
    "i = Vehicle('Thar','LX',2023)\n",
    "i.start_engine()"
   ]
  },
  {
   "cell_type": "code",
   "execution_count": null,
   "id": "f12ad2f2",
   "metadata": {},
   "outputs": [],
   "source": []
  }
 ],
 "metadata": {
  "kernelspec": {
   "display_name": "Python 3 (ipykernel)",
   "language": "python",
   "name": "python3"
  },
  "language_info": {
   "codemirror_mode": {
    "name": "ipython",
    "version": 3
   },
   "file_extension": ".py",
   "mimetype": "text/x-python",
   "name": "python",
   "nbconvert_exporter": "python",
   "pygments_lexer": "ipython3",
   "version": "3.9.12"
  }
 },
 "nbformat": 4,
 "nbformat_minor": 5
}
