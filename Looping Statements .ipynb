{
 "cells": [
  {
   "cell_type": "markdown",
   "id": "ce511237",
   "metadata": {},
   "source": [
    "# Looping Statement - 1"
   ]
  },
  {
   "cell_type": "markdown",
   "id": "e5708fc2",
   "metadata": {},
   "source": [
    "### 1.Program to print \"Hello Python\" ten times"
   ]
  },
  {
   "cell_type": "code",
   "execution_count": 1,
   "id": "c7085892",
   "metadata": {},
   "outputs": [
    {
     "name": "stdout",
     "output_type": "stream",
     "text": [
      "Hello Python\n",
      "Hello Python\n",
      "Hello Python\n",
      "Hello Python\n",
      "Hello Python\n",
      "Hello Python\n",
      "Hello Python\n",
      "Hello Python\n",
      "Hello Python\n",
      "Hello Python\n"
     ]
    }
   ],
   "source": [
    "for i in range(10):\n",
    "    print('Hello Python')"
   ]
  },
  {
   "cell_type": "markdown",
   "id": "a19dff12",
   "metadata": {},
   "source": [
    "### 2.Program to print number from 1 to 10"
   ]
  },
  {
   "cell_type": "code",
   "execution_count": 2,
   "id": "1cb9a65c",
   "metadata": {},
   "outputs": [
    {
     "name": "stdout",
     "output_type": "stream",
     "text": [
      "1\n",
      "2\n",
      "3\n",
      "4\n",
      "5\n",
      "6\n",
      "7\n",
      "8\n",
      "9\n",
      "10\n"
     ]
    }
   ],
   "source": [
    "for i in range(1,11):\n",
    "    print(i)"
   ]
  },
  {
   "cell_type": "markdown",
   "id": "8bc9d2ec",
   "metadata": {},
   "source": [
    "### 3. Program to print sum of first ten numbers"
   ]
  },
  {
   "cell_type": "code",
   "execution_count": 6,
   "id": "b59ef76e",
   "metadata": {},
   "outputs": [
    {
     "name": "stdout",
     "output_type": "stream",
     "text": [
      "The sum of first ten numbers:  55\n"
     ]
    }
   ],
   "source": [
    "ans = 0\n",
    "for i in range(1,11):\n",
    "    ans+=i\n",
    "    i+=1\n",
    "print('The sum of first ten numbers: ',ans)"
   ]
  },
  {
   "cell_type": "markdown",
   "id": "6155e2cc",
   "metadata": {},
   "source": [
    "### 4.Program to print n number entered by the user"
   ]
  },
  {
   "cell_type": "code",
   "execution_count": 10,
   "id": "8ee9e82d",
   "metadata": {},
   "outputs": [
    {
     "name": "stdout",
     "output_type": "stream",
     "text": [
      "Enter the number: 5\n",
      "1\n",
      "2\n",
      "3\n",
      "4\n",
      "5\n",
      "\n"
     ]
    }
   ],
   "source": [
    "n = int(input('Enter the number: '))\n",
    "for i in range(1,n+1):\n",
    "    print(i)\n",
    "    i+=1\n",
    "print()"
   ]
  },
  {
   "cell_type": "markdown",
   "id": "c19aa0af",
   "metadata": {},
   "source": [
    "### 5.Program to print sum of n numbers"
   ]
  },
  {
   "cell_type": "code",
   "execution_count": 11,
   "id": "8d4efcf2",
   "metadata": {},
   "outputs": [
    {
     "name": "stdout",
     "output_type": "stream",
     "text": [
      "Enter the number15\n",
      "The sum of 15 numbers:  120\n"
     ]
    }
   ],
   "source": [
    "n = int(input('Enter the number'))\n",
    "ans=0\n",
    "for i in range(1,n+1):\n",
    "    ans+=i\n",
    "print('The sum of',n,'numbers: ',ans)"
   ]
  },
  {
   "cell_type": "markdown",
   "id": "718fdeb9",
   "metadata": {},
   "source": [
    "### 6. Program to print table of a number"
   ]
  },
  {
   "cell_type": "code",
   "execution_count": 12,
   "id": "5ba8d955",
   "metadata": {},
   "outputs": [
    {
     "name": "stdout",
     "output_type": "stream",
     "text": [
      "Enter the Number: 10\n",
      "The table of  10 is: \n",
      "1 * 10 = 10\n",
      "2 * 10 = 20\n",
      "3 * 10 = 30\n",
      "4 * 10 = 40\n",
      "5 * 10 = 50\n",
      "6 * 10 = 60\n",
      "7 * 10 = 70\n",
      "8 * 10 = 80\n",
      "9 * 10 = 90\n",
      "10 * 10 = 100\n"
     ]
    }
   ],
   "source": [
    "x= int(input('Enter the Number: '))\n",
    "print('The table of ',x,'is: ')\n",
    "for i in range(1,11):\n",
    "    print(i,'*',x,'=',i*x)\n"
   ]
  },
  {
   "cell_type": "markdown",
   "id": "d586ed0e",
   "metadata": {},
   "source": [
    "### 7.Program to calculate the factorial of a number"
   ]
  },
  {
   "cell_type": "code",
   "execution_count": 15,
   "id": "445537b9",
   "metadata": {},
   "outputs": [
    {
     "name": "stdout",
     "output_type": "stream",
     "text": [
      "Enter the number: 8\n",
      "The factorial of 8 is : 40320\n"
     ]
    }
   ],
   "source": [
    "x = int(input('Enter the number: '))\n",
    "fac=1\n",
    "for i in range(1,x+1):\n",
    "    fac*=i\n",
    "    i+=1\n",
    "print('The factorial of',x,'is :',fac)"
   ]
  },
  {
   "cell_type": "markdown",
   "id": "49c35ced",
   "metadata": {},
   "source": [
    "### 8.Program to print even number between 1 to 100"
   ]
  },
  {
   "cell_type": "code",
   "execution_count": 2,
   "id": "f5a077bb",
   "metadata": {},
   "outputs": [
    {
     "name": "stdout",
     "output_type": "stream",
     "text": [
      "2\n",
      "4\n",
      "6\n",
      "8\n",
      "10\n",
      "12\n",
      "14\n",
      "16\n",
      "18\n",
      "20\n",
      "22\n",
      "24\n",
      "26\n",
      "28\n",
      "30\n",
      "32\n",
      "34\n",
      "36\n",
      "38\n",
      "40\n",
      "42\n",
      "44\n",
      "46\n",
      "48\n",
      "50\n",
      "52\n",
      "54\n",
      "56\n",
      "58\n",
      "60\n",
      "62\n",
      "64\n",
      "66\n",
      "68\n",
      "70\n",
      "72\n",
      "74\n",
      "76\n",
      "78\n",
      "80\n",
      "82\n",
      "84\n",
      "86\n",
      "88\n",
      "90\n",
      "92\n",
      "94\n",
      "96\n",
      "98\n"
     ]
    }
   ],
   "source": [
    "for i in range(1,100):\n",
    "    if i%2==0:\n",
    "        print(i)"
   ]
  },
  {
   "cell_type": "markdown",
   "id": "8b49d6ad",
   "metadata": {},
   "source": [
    "### 9.Program to print odd number between 1 to 100"
   ]
  },
  {
   "cell_type": "code",
   "execution_count": 3,
   "id": "a59e4d27",
   "metadata": {},
   "outputs": [
    {
     "name": "stdout",
     "output_type": "stream",
     "text": [
      "1\n",
      "3\n",
      "5\n",
      "7\n",
      "9\n",
      "11\n",
      "13\n",
      "15\n",
      "17\n",
      "19\n",
      "21\n",
      "23\n",
      "25\n",
      "27\n",
      "29\n",
      "31\n",
      "33\n",
      "35\n",
      "37\n",
      "39\n",
      "41\n",
      "43\n",
      "45\n",
      "47\n",
      "49\n",
      "51\n",
      "53\n",
      "55\n",
      "57\n",
      "59\n",
      "61\n",
      "63\n",
      "65\n",
      "67\n",
      "69\n",
      "71\n",
      "73\n",
      "75\n",
      "77\n",
      "79\n",
      "81\n",
      "83\n",
      "85\n",
      "87\n",
      "89\n",
      "91\n",
      "93\n",
      "95\n",
      "97\n",
      "99\n"
     ]
    }
   ],
   "source": [
    "for x in range(1,100):\n",
    "    if x%2!=0:\n",
    "        print(x)"
   ]
  },
  {
   "cell_type": "markdown",
   "id": "31f2b63d",
   "metadata": {},
   "source": [
    "# Looping Statement - 2"
   ]
  },
  {
   "cell_type": "markdown",
   "id": "ea465b66",
   "metadata": {},
   "source": [
    "### 1. Program to check whether the number is palindrome or not"
   ]
  },
  {
   "cell_type": "code",
   "execution_count": 2,
   "id": "664073b4",
   "metadata": {},
   "outputs": [
    {
     "name": "stdout",
     "output_type": "stream",
     "text": [
      "Enter the number: 1221\n",
      "The number 1221 is palindrome\n"
     ]
    }
   ],
   "source": [
    "n = int(input('Enter the number: '))\n",
    "rev = 0\n",
    "temp = n\n",
    "while n>0:\n",
    "    remainder = n%10\n",
    "    rev = rev*10+remainder\n",
    "    n=n//10\n",
    "if temp==rev:\n",
    "    print('The number',temp,'is palindrome')\n",
    "else:\n",
    "    print('The number',temp,'is not palindrome')"
   ]
  },
  {
   "cell_type": "markdown",
   "id": "7b4ecdfb",
   "metadata": {},
   "source": [
    "### 2.Program to find factors of a number"
   ]
  },
  {
   "cell_type": "code",
   "execution_count": 3,
   "id": "64bcb50c",
   "metadata": {},
   "outputs": [
    {
     "name": "stdout",
     "output_type": "stream",
     "text": [
      "Enter the number12\n",
      "1\n",
      "2\n",
      "3\n",
      "4\n",
      "6\n",
      "12\n"
     ]
    }
   ],
   "source": [
    "n = int(input('Enter the number'))\n",
    "for i in range(1,n+1):\n",
    "    if n%i==0:\n",
    "        print(i)"
   ]
  },
  {
   "cell_type": "markdown",
   "id": "8ea875f4",
   "metadata": {},
   "source": [
    "### 3. Program to print the reverse of a number"
   ]
  },
  {
   "cell_type": "code",
   "execution_count": 4,
   "id": "ec66c2f1",
   "metadata": {},
   "outputs": [
    {
     "name": "stdout",
     "output_type": "stream",
     "text": [
      "Enter the number265987\n",
      "The reverse of the number is :  789562\n"
     ]
    }
   ],
   "source": [
    "n = int(input('Enter the number'))\n",
    "rev = 0\n",
    "while n>0:\n",
    "    rem = n%10\n",
    "    rev=rev*10+rem\n",
    "    n=n//10\n",
    "print('The reverse of the number is : ',rev)"
   ]
  },
  {
   "cell_type": "markdown",
   "id": "6210c23e",
   "metadata": {},
   "source": [
    "### 4.Program to print the sum of reverse of a number"
   ]
  },
  {
   "cell_type": "code",
   "execution_count": 8,
   "id": "91adf096",
   "metadata": {},
   "outputs": [
    {
     "name": "stdout",
     "output_type": "stream",
     "text": [
      "Enter the number125\n",
      "The sum of reverse of a number: 8\n"
     ]
    }
   ],
   "source": [
    "n = int(input('Enter the number'))\n",
    "sum = 0\n",
    "while n>0:\n",
    "    rem = n%10\n",
    "    sum+=rem\n",
    "    n=n//10\n",
    "print('The sum of reverse of a number:',sum)"
   ]
  },
  {
   "cell_type": "markdown",
   "id": "bbb307ed",
   "metadata": {},
   "source": [
    "### 5. Program to check whether the number is prime or not"
   ]
  },
  {
   "cell_type": "code",
   "execution_count": 9,
   "id": "f799b03b",
   "metadata": {},
   "outputs": [
    {
     "name": "stdout",
     "output_type": "stream",
     "text": [
      "Enter the number5\n",
      "The number is Prime\n"
     ]
    }
   ],
   "source": [
    "n = int(input('Enter the number'))\n",
    "i = 2\n",
    "prime= 1\n",
    "while i<n:\n",
    "    if n%i==0:\n",
    "        prime =0\n",
    "        break\n",
    "    i+=1\n",
    "if prime==1:\n",
    "    print('The number is Prime')\n",
    "else:\n",
    "    print('The number is not Prime')"
   ]
  },
  {
   "cell_type": "markdown",
   "id": "571796af",
   "metadata": {},
   "source": [
    "### 6.Program to print prime number between 1 to 100"
   ]
  },
  {
   "cell_type": "code",
   "execution_count": 4,
   "id": "84317d2b",
   "metadata": {},
   "outputs": [
    {
     "name": "stdout",
     "output_type": "stream",
     "text": [
      "2\n",
      "3\n",
      "5\n",
      "7\n",
      "11\n",
      "13\n",
      "17\n",
      "19\n",
      "23\n",
      "29\n",
      "31\n",
      "37\n",
      "41\n",
      "43\n",
      "47\n",
      "53\n",
      "59\n",
      "61\n",
      "67\n",
      "71\n",
      "73\n",
      "79\n",
      "83\n",
      "89\n",
      "97\n"
     ]
    }
   ],
   "source": [
    "for n in range(1,100):\n",
    "    prime = 0\n",
    "    for i in range(2,(n//2+1)):\n",
    "        if n%i==0:\n",
    "            prime = prime+1\n",
    "            break\n",
    "    if prime==0 and n!=1:\n",
    "        print(n)"
   ]
  },
  {
   "cell_type": "markdown",
   "id": "8c50a1f0",
   "metadata": {},
   "source": [
    "### 7.Program to print number in reverse order"
   ]
  },
  {
   "cell_type": "code",
   "execution_count": 3,
   "id": "1e70cdc6",
   "metadata": {},
   "outputs": [
    {
     "name": "stdout",
     "output_type": "stream",
     "text": [
      "Enter the number50\n",
      "The reverse order of the number is : \n",
      "50 49 48 47 46 45 44 43 42 41 40 39 38 37 36 35 34 33 32 31 30 29 28 27 26 25 24 23 22 21 20 19 18 17 16 15 14 13 12 11 10 9 8 7 6 5 4 3 2 1 "
     ]
    }
   ],
   "source": [
    "n = int(input('Enter the number'))\n",
    "print('The reverse order of the number is : ')\n",
    "i=n\n",
    "while i>=1: \n",
    "    print(i,end=' ')\n",
    "    i=i-1"
   ]
  },
  {
   "cell_type": "markdown",
   "id": "73fcc0b4",
   "metadata": {},
   "source": [
    "### 8. Program to print the cube of all numbers from 1 to a given number"
   ]
  },
  {
   "cell_type": "code",
   "execution_count": 6,
   "id": "ace321a7",
   "metadata": {},
   "outputs": [
    {
     "name": "stdout",
     "output_type": "stream",
     "text": [
      "Enter the number: 5\n",
      "The cube of 1 is:  1\n",
      "The cube of 2 is:  8\n",
      "The cube of 3 is:  27\n",
      "The cube of 4 is:  64\n",
      "The cube of 5 is:  125\n"
     ]
    }
   ],
   "source": [
    "n=int(input('Enter the number: '))\n",
    "for i in range(1,n+1):\n",
    "    cube=i*i*i\n",
    "    print('The cube of',i,'is: ',cube)\n",
    "    i+=1"
   ]
  },
  {
   "cell_type": "markdown",
   "id": "772b6f02",
   "metadata": {},
   "source": [
    "# Looping Statement - 3"
   ]
  },
  {
   "cell_type": "markdown",
   "id": "69c83409",
   "metadata": {},
   "source": [
    "### 1. Program to count the total number of digits in a number"
   ]
  },
  {
   "cell_type": "code",
   "execution_count": 8,
   "id": "30a89cbf",
   "metadata": {},
   "outputs": [
    {
     "name": "stdout",
     "output_type": "stream",
     "text": [
      "Enter the number:15487\n",
      "The total number of digits is :  5\n"
     ]
    }
   ],
   "source": [
    "n = int(input('Enter the number:'))\n",
    "count = 0\n",
    "while n>0:\n",
    "    n = n//10\n",
    "    count +=1\n",
    "print('The total number of digits is : ',count)"
   ]
  },
  {
   "cell_type": "markdown",
   "id": "630fc049",
   "metadata": {},
   "source": [
    "### 2. Program to print fibonacci series"
   ]
  },
  {
   "cell_type": "code",
   "execution_count": 2,
   "id": "29b07952",
   "metadata": {},
   "outputs": [
    {
     "name": "stdout",
     "output_type": "stream",
     "text": [
      "Enter the number: 10\n",
      "The Fibonacci Series: 0  1  1  2  3  5  8  13  21  34  "
     ]
    }
   ],
   "source": [
    "#using while loop\n",
    "\n",
    "n=int(input('Enter the number: '))\n",
    "a=0\n",
    "b=1\n",
    "c=0\n",
    "count=1\n",
    "print('The Fibonacci Series: ',end='')\n",
    "while count<=n:\n",
    "    print(c,end='  ')\n",
    "    count+=1\n",
    "    a=b\n",
    "    b=c\n",
    "    c=a+b\n",
    "\n",
    "    "
   ]
  },
  {
   "cell_type": "code",
   "execution_count": 5,
   "id": "9b137908",
   "metadata": {},
   "outputs": [
    {
     "name": "stdout",
     "output_type": "stream",
     "text": [
      "Enter the number: 10\n",
      "The Fibonacci series :  (0, 1, 1, 2, 3, 5, 8, 13, 21, 34, 55, 89, 144)\n"
     ]
    }
   ],
   "source": [
    "#using for loop\n",
    "\n",
    "n= int(input('Enter the number: '))\n",
    "l=[0,1]\n",
    "a=0\n",
    "b=1\n",
    "c=0\n",
    "for i in range(n+1):\n",
    "    c=a+b\n",
    "    a=b\n",
    "    b=c\n",
    "    l.append(c)\n",
    "print('The Fibonacci series : ',tuple(l))"
   ]
  },
  {
   "cell_type": "markdown",
   "id": "642b98b5",
   "metadata": {},
   "source": [
    "### 3.Program to check whether a given number is armstrong number or not"
   ]
  },
  {
   "cell_type": "code",
   "execution_count": 9,
   "id": "145073b9",
   "metadata": {},
   "outputs": [
    {
     "name": "stdout",
     "output_type": "stream",
     "text": [
      "Enter the number : 153\n",
      "The 153 is an Armstrong number\n"
     ]
    }
   ],
   "source": [
    "n = int(input('Enter the number : '))\n",
    "rev=n\n",
    "count=0\n",
    "while n>0:\n",
    "    rem = n%10\n",
    "    count+=rem**3\n",
    "    n=n//10\n",
    "if rev==count:\n",
    "    print('The',rev,'is an Armstrong number')\n",
    "else:\n",
    "    print('The',rev,'is not an Armstrong number')"
   ]
  },
  {
   "cell_type": "markdown",
   "id": "2026ddd8",
   "metadata": {},
   "source": [
    "### 4. Program to check whether a given number is strong or not"
   ]
  },
  {
   "cell_type": "code",
   "execution_count": 22,
   "id": "7ec5ab5c",
   "metadata": {},
   "outputs": [
    {
     "name": "stdout",
     "output_type": "stream",
     "text": [
      "Enter the number: 145\n",
      "The given number is Strong number\n"
     ]
    }
   ],
   "source": [
    "n= int(input('Enter the number: '))\n",
    "\n",
    "temp = n\n",
    "fac_sum=0\n",
    "while n>0:\n",
    "    fac=1\n",
    "    i=1\n",
    "    rem=n%10\n",
    "    while i<=rem:\n",
    "        fac*=i\n",
    "        i=i+1\n",
    "    fac_sum+=fac\n",
    "    n//=10\n",
    "    \n",
    "if temp==fac_sum:\n",
    "    print('The given number is Strong number')\n",
    "else:\n",
    "    print('The given number is not a strong number')"
   ]
  },
  {
   "cell_type": "markdown",
   "id": "19afb6b8",
   "metadata": {},
   "source": [
    "### 5. Program to check whether the given number is perfect number or not"
   ]
  },
  {
   "cell_type": "code",
   "execution_count": 24,
   "id": "3343ddac",
   "metadata": {},
   "outputs": [
    {
     "name": "stdout",
     "output_type": "stream",
     "text": [
      "Enter the number: 6\n",
      "The number is Perfect\n"
     ]
    }
   ],
   "source": [
    "n=int(input('Enter the number: '))\n",
    "sum=0\n",
    "n=temp\n",
    "for i in range(1,n):\n",
    "    if n%i==0:\n",
    "        sum=sum+i\n",
    "if temp==n:\n",
    "    print('The number is Perfect')\n",
    "else:\n",
    "    print('The number is not Perfect')"
   ]
  },
  {
   "cell_type": "code",
   "execution_count": null,
   "id": "69623d64",
   "metadata": {},
   "outputs": [],
   "source": []
  }
 ],
 "metadata": {
  "kernelspec": {
   "display_name": "Python 3 (ipykernel)",
   "language": "python",
   "name": "python3"
  },
  "language_info": {
   "codemirror_mode": {
    "name": "ipython",
    "version": 3
   },
   "file_extension": ".py",
   "mimetype": "text/x-python",
   "name": "python",
   "nbconvert_exporter": "python",
   "pygments_lexer": "ipython3",
   "version": "3.9.12"
  }
 },
 "nbformat": 4,
 "nbformat_minor": 5
}
