{
 "cells": [
  {
   "cell_type": "markdown",
   "id": "84709c1a",
   "metadata": {},
   "source": [
    "## File Handling"
   ]
  },
  {
   "cell_type": "markdown",
   "id": "e4c102cc",
   "metadata": {},
   "source": [
    "#### 1.Program to read first 5 characters from the file"
   ]
  },
  {
   "cell_type": "code",
   "execution_count": 1,
   "id": "37b7e992",
   "metadata": {},
   "outputs": [
    {
     "data": {
      "text/plain": [
       "'Chenn'"
      ]
     },
     "execution_count": 1,
     "metadata": {},
     "output_type": "execute_result"
    }
   ],
   "source": [
    "f = open('my_data.txt','r')\n",
    "f.read(5)"
   ]
  },
  {
   "cell_type": "code",
   "execution_count": 2,
   "id": "52f2fc35",
   "metadata": {},
   "outputs": [],
   "source": [
    "f.close()"
   ]
  },
  {
   "cell_type": "markdown",
   "id": "55b82eaa",
   "metadata": {},
   "source": [
    "#### 2.Program to read first line from the file"
   ]
  },
  {
   "cell_type": "code",
   "execution_count": 5,
   "id": "ff64db2b",
   "metadata": {},
   "outputs": [
    {
     "name": "stdout",
     "output_type": "stream",
     "text": [
      "Chennai: The skies in Chennai are likely to remain generally cloudy on Tuesday, December 13 while moderate rainfall will lash the city. Heavy rain along with thunderstorms and lightning is expected at one or two places today, the Regional Meteorological Centre (RMC Chennai) said.\n",
      "\n"
     ]
    }
   ],
   "source": [
    "f = open('my_data.txt','r+')\n",
    "print(f.readline())"
   ]
  },
  {
   "cell_type": "code",
   "execution_count": 6,
   "id": "f9eac9a0",
   "metadata": {},
   "outputs": [],
   "source": [
    "f.close()"
   ]
  },
  {
   "cell_type": "markdown",
   "id": "c509a8f1",
   "metadata": {},
   "source": [
    "#### 3. Program to display number of lines in a file"
   ]
  },
  {
   "cell_type": "code",
   "execution_count": 8,
   "id": "6e90acdc",
   "metadata": {},
   "outputs": [
    {
     "name": "stdout",
     "output_type": "stream",
     "text": [
      "Chennai: The skies in Chennai are likely to remain generally cloudy on Tuesday, December 13 while moderate rainfall will lash the city. Heavy rain along with thunderstorms and lightning is expected at one or two places today, the Regional Meteorological Centre (RMC Chennai) said.\n",
      "The maximum temperature in the city is expected to be around 28-29 degrees celsius while the minimum temperature is likely to settle around 23-24 today. The RMC has also issued a warning about moderate rainfall with thunderstorms and lightning likely to occur.\n",
      "\n",
      "Chennai and several other parts of Tamil Nadu have been witnessing significant rainfall in the past few days due to the Mandous cyclone. Schools in some districts including Tiruvallur and Uthukottai Taluks apart from the Kancheepuram district have declared a rain holiday today.\n"
     ]
    }
   ],
   "source": [
    "f=open('my_data.txt','r')\n",
    "print(f.read())"
   ]
  },
  {
   "cell_type": "code",
   "execution_count": 10,
   "id": "647b25ca",
   "metadata": {},
   "outputs": [],
   "source": [
    "f.close()"
   ]
  },
  {
   "cell_type": "code",
   "execution_count": 9,
   "id": "d2460704",
   "metadata": {},
   "outputs": [
    {
     "name": "stdout",
     "output_type": "stream",
     "text": [
      "4\n"
     ]
    }
   ],
   "source": [
    "f=open('my_data.txt','r')\n",
    "print(len(f.readlines()))\n",
    "f.close()"
   ]
  },
  {
   "cell_type": "markdown",
   "id": "0d43cc8f",
   "metadata": {},
   "source": [
    "#### 4.Program to display first line from the file using readlines()"
   ]
  },
  {
   "cell_type": "code",
   "execution_count": 12,
   "id": "9f8062ef",
   "metadata": {},
   "outputs": [
    {
     "name": "stdout",
     "output_type": "stream",
     "text": [
      "['Chennai: The skies in Chennai are likely to remain generally cloudy on Tuesday, December 13 while moderate rainfall will lash the city. Heavy rain along with thunderstorms and lightning is expected at one or two places today, the Regional Meteorological Centre (RMC Chennai) said.\\n']\n"
     ]
    }
   ],
   "source": [
    "f=open('my_data.txt','r')\n",
    "print(f.readlines(1))"
   ]
  },
  {
   "cell_type": "code",
   "execution_count": 13,
   "id": "246f5254",
   "metadata": {},
   "outputs": [],
   "source": [
    "f.close()"
   ]
  },
  {
   "cell_type": "markdown",
   "id": "6556f4d7",
   "metadata": {},
   "source": [
    "##### 5.Program to accept five names from the user and write in a file"
   ]
  },
  {
   "cell_type": "code",
   "execution_count": 1,
   "id": "eba5a208",
   "metadata": {},
   "outputs": [
    {
     "data": {
      "text/plain": [
       "39"
      ]
     },
     "execution_count": 1,
     "metadata": {},
     "output_type": "execute_result"
    }
   ],
   "source": [
    "f = open('username.txt','w+')\n",
    "f.write('1.Raj 2.Kumar 3.Krishna 4.Vasu 5.Govind')"
   ]
  },
  {
   "cell_type": "code",
   "execution_count": 2,
   "id": "8e12a4da",
   "metadata": {},
   "outputs": [
    {
     "data": {
      "text/plain": [
       "0"
      ]
     },
     "execution_count": 2,
     "metadata": {},
     "output_type": "execute_result"
    }
   ],
   "source": [
    "f.seek(0)"
   ]
  },
  {
   "cell_type": "code",
   "execution_count": 3,
   "id": "c22588f3",
   "metadata": {},
   "outputs": [
    {
     "name": "stdout",
     "output_type": "stream",
     "text": [
      "1.Raj 2.Kumar 3.Krishna 4.Vasu 5.Govind\n"
     ]
    }
   ],
   "source": [
    "print(f.read())"
   ]
  },
  {
   "cell_type": "code",
   "execution_count": 4,
   "id": "7823125f",
   "metadata": {},
   "outputs": [],
   "source": [
    "f.close()"
   ]
  },
  {
   "cell_type": "markdown",
   "id": "69e7543b",
   "metadata": {},
   "source": [
    "##### 6.Program to accept five language names from the user and write in a file"
   ]
  },
  {
   "cell_type": "code",
   "execution_count": 5,
   "id": "ec7d9222",
   "metadata": {},
   "outputs": [
    {
     "data": {
      "text/plain": [
       "36"
      ]
     },
     "execution_count": 5,
     "metadata": {},
     "output_type": "execute_result"
    }
   ],
   "source": [
    "f = open('language.txt','w+')\n",
    "f.write('Tamil Hindi English Malayalam Telugu')"
   ]
  },
  {
   "cell_type": "code",
   "execution_count": 6,
   "id": "6b1000e0",
   "metadata": {},
   "outputs": [
    {
     "data": {
      "text/plain": [
       "0"
      ]
     },
     "execution_count": 6,
     "metadata": {},
     "output_type": "execute_result"
    }
   ],
   "source": [
    "f.seek(0)"
   ]
  },
  {
   "cell_type": "code",
   "execution_count": 7,
   "id": "48c2d7ff",
   "metadata": {},
   "outputs": [
    {
     "name": "stdout",
     "output_type": "stream",
     "text": [
      "Tamil Hindi English Malayalam Telugu\n"
     ]
    }
   ],
   "source": [
    "print(f.read())"
   ]
  },
  {
   "cell_type": "code",
   "execution_count": 8,
   "id": "e148f66c",
   "metadata": {},
   "outputs": [],
   "source": [
    "f.close()"
   ]
  },
  {
   "cell_type": "markdown",
   "id": "042ddbda",
   "metadata": {},
   "source": [
    "##### 7.Program to accept five hobbies from the user"
   ]
  },
  {
   "cell_type": "code",
   "execution_count": 14,
   "id": "ede85a9b",
   "metadata": {},
   "outputs": [],
   "source": [
    "f = open('hobby.txt','w+')\n",
    "f.writelines(['Gaming'])\n",
    "f.writelines(['Painting'])\n",
    "f.writelines(['Reading'])\n",
    "f.writelines(['Gardening'])\n",
    "f.writelines(['Cooking'])"
   ]
  },
  {
   "cell_type": "code",
   "execution_count": 15,
   "id": "c860465f",
   "metadata": {},
   "outputs": [],
   "source": [
    "f.close()"
   ]
  },
  {
   "cell_type": "code",
   "execution_count": 16,
   "id": "9e75dc34",
   "metadata": {},
   "outputs": [
    {
     "name": "stdout",
     "output_type": "stream",
     "text": [
      "GamingPaintingReadingGardeningCooking\n"
     ]
    }
   ],
   "source": [
    "f = open('hobby.txt','r')\n",
    "print(f.read())\n",
    "f.close()"
   ]
  },
  {
   "cell_type": "markdown",
   "id": "642e3bd1",
   "metadata": {},
   "source": [
    "##### 8.Program to count the upper-case alphabets present in a text file"
   ]
  },
  {
   "cell_type": "code",
   "execution_count": 1,
   "id": "6b96110e",
   "metadata": {},
   "outputs": [],
   "source": [
    "f = open('article.txt','w+')"
   ]
  },
  {
   "cell_type": "code",
   "execution_count": 2,
   "id": "f0aee346",
   "metadata": {},
   "outputs": [],
   "source": [
    "f.write('Python is a Programming Language')\n",
    "f.close()"
   ]
  },
  {
   "cell_type": "code",
   "execution_count": 14,
   "id": "fe933d5c",
   "metadata": {},
   "outputs": [
    {
     "name": "stdout",
     "output_type": "stream",
     "text": [
      "Total number of uppercase : 3\n"
     ]
    }
   ],
   "source": [
    "uppercount=0\n",
    "f=open('article.txt','r+')\n",
    "while True:\n",
    "    data=f.read(1)   \n",
    "    if data=='':\n",
    "        break\n",
    "    if ord(data)>=65 and ord(data)<=90:\n",
    "        uppercount+=1\n",
    "\n",
    "print('Total number of uppercase :',uppercount)"
   ]
  },
  {
   "cell_type": "code",
   "execution_count": 3,
   "id": "5285a5e5",
   "metadata": {},
   "outputs": [],
   "source": [
    "f.close()"
   ]
  },
  {
   "cell_type": "markdown",
   "id": "38fc9ee8",
   "metadata": {},
   "source": [
    "##### 9.Program to count the lower-case alphabets present in a text file"
   ]
  },
  {
   "cell_type": "code",
   "execution_count": 13,
   "id": "662ce5cb",
   "metadata": {},
   "outputs": [
    {
     "name": "stdout",
     "output_type": "stream",
     "text": [
      "Total Number of lowercase :  25\n"
     ]
    }
   ],
   "source": [
    "f=open('article.txt','r+')\n",
    "lowercase=0\n",
    "data=f.read()  \n",
    "for i in data:\n",
    "    if i.islower():  \n",
    "        lowercase+=1\n",
    "        \n",
    "print('Total Number of lowercase : ',lowercase)"
   ]
  },
  {
   "cell_type": "code",
   "execution_count": 15,
   "id": "5c65b550",
   "metadata": {},
   "outputs": [],
   "source": [
    "f.close()"
   ]
  },
  {
   "cell_type": "markdown",
   "id": "e0a9ee5c",
   "metadata": {},
   "source": [
    "##### 10.Program to count the words 'To' and 'the' present in the file"
   ]
  },
  {
   "cell_type": "code",
   "execution_count": 31,
   "id": "d473ee6d",
   "metadata": {},
   "outputs": [],
   "source": [
    "f=open('article.txt','r+')\n",
    "f.write(' The Python language has many different types of statements like assignment statements, conditional statements, looping statements, etc that help a programmer get the desired output.')\n",
    "f.close()"
   ]
  },
  {
   "cell_type": "code",
   "execution_count": 32,
   "id": "32c88d04",
   "metadata": {},
   "outputs": [
    {
     "data": {
      "text/plain": [
       "' The Python language has many different types of statements like assignment statements, conditional statements, looping statements, etc that help a programmer get the desired output.rogrammer get the desired output. The Python language has many different types of statements like assignment statements, conditional statements, looping statements, etc., that help a programmer get the desired output. The Python language has many different types of statements like assignment statements, conditional statements, looping statements, etc that help a programmer get the desired output.'"
      ]
     },
     "execution_count": 32,
     "metadata": {},
     "output_type": "execute_result"
    }
   ],
   "source": [
    "f=open('article.txt','r+')\n",
    "f.read()"
   ]
  },
  {
   "cell_type": "code",
   "execution_count": 33,
   "id": "659ae500",
   "metadata": {},
   "outputs": [],
   "source": [
    "f.close()"
   ]
  },
  {
   "cell_type": "code",
   "execution_count": 1,
   "id": "52eb8ea2",
   "metadata": {},
   "outputs": [
    {
     "name": "stdout",
     "output_type": "stream",
     "text": [
      "The number of words To :  0\n",
      "The number of words the :  7\n"
     ]
    }
   ],
   "source": [
    "f=open('article.txt','r+')\n",
    "data = f.read()\n",
    "word1= data.count('to')\n",
    "word2=data.count('the')\n",
    "word3=data.count('The')\n",
    "print('The number of words To : ',word1)\n",
    "print('The number of words the : ',word2+word3)\n",
    "\n",
    "f.close()"
   ]
  },
  {
   "cell_type": "code",
   "execution_count": null,
   "id": "b6aeda65",
   "metadata": {},
   "outputs": [],
   "source": []
  }
 ],
 "metadata": {
  "kernelspec": {
   "display_name": "Python 3 (ipykernel)",
   "language": "python",
   "name": "python3"
  },
  "language_info": {
   "codemirror_mode": {
    "name": "ipython",
    "version": 3
   },
   "file_extension": ".py",
   "mimetype": "text/x-python",
   "name": "python",
   "nbconvert_exporter": "python",
   "pygments_lexer": "ipython3",
   "version": "3.9.12"
  }
 },
 "nbformat": 4,
 "nbformat_minor": 5
}
