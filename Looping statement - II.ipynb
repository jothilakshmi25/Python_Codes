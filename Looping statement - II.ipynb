{
 "cells": [
  {
   "cell_type": "markdown",
   "id": "1b895d4b",
   "metadata": {},
   "source": [
    "### Looping Statement - 4"
   ]
  },
  {
   "cell_type": "markdown",
   "id": "a3935e79",
   "metadata": {},
   "source": [
    "##### 1. Program to find the numbers which are divisible by 7 and multiple by 5"
   ]
  },
  {
   "cell_type": "code",
   "execution_count": 7,
   "id": "6d4fa1cf",
   "metadata": {},
   "outputs": [
    {
     "name": "stdout",
     "output_type": "stream",
     "text": [
      "The numbers which are divisible by 7 and multiple of 5 between 1000 and 2000 : \n",
      "1015\n",
      "1050\n",
      "1085\n",
      "1120\n",
      "1155\n",
      "1190\n",
      "1225\n",
      "1260\n",
      "1295\n",
      "1330\n",
      "1365\n",
      "1400\n",
      "1435\n",
      "1470\n",
      "1505\n",
      "1540\n",
      "1575\n",
      "1610\n",
      "1645\n",
      "1680\n",
      "1715\n",
      "1750\n",
      "1785\n",
      "1820\n",
      "1855\n",
      "1890\n",
      "1925\n",
      "1960\n",
      "1995\n"
     ]
    }
   ],
   "source": [
    "print('The numbers which are divisible by 7 and multiple of 5 between 1000 and 2000 : ')\n",
    "for i in range(1001,2000):\n",
    "    if i%7==0 and i%5==0:\n",
    "        print(i)\n",
    "        i+=1"
   ]
  },
  {
   "cell_type": "markdown",
   "id": "662bfd4a",
   "metadata": {},
   "source": [
    "#### Pattern using a loop"
   ]
  },
  {
   "cell_type": "markdown",
   "id": "8dff2d3a",
   "metadata": {},
   "source": [
    "##### 1. a)"
   ]
  },
  {
   "cell_type": "code",
   "execution_count": 12,
   "id": "2f00609b",
   "metadata": {},
   "outputs": [
    {
     "name": "stdout",
     "output_type": "stream",
     "text": [
      "1\n",
      "12\n",
      "123\n",
      "1234\n",
      "12345\n"
     ]
    }
   ],
   "source": [
    "for i in range(1,6):\n",
    "    for j in range(i):\n",
    "        print(j+1,end='')\n",
    "    print()"
   ]
  },
  {
   "cell_type": "markdown",
   "id": "0cbaf80f",
   "metadata": {},
   "source": [
    "##### 1. b)"
   ]
  },
  {
   "cell_type": "code",
   "execution_count": 14,
   "id": "98959bfd",
   "metadata": {},
   "outputs": [
    {
     "name": "stdout",
     "output_type": "stream",
     "text": [
      "1\n",
      "22\n",
      "333\n",
      "4444\n",
      "55555\n"
     ]
    }
   ],
   "source": [
    "for i in range(1,6):\n",
    "    for j in range(i):\n",
    "        print(i,end='')\n",
    "    print()"
   ]
  },
  {
   "cell_type": "markdown",
   "id": "9b45b3b6",
   "metadata": {},
   "source": [
    "##### 1. c)"
   ]
  },
  {
   "cell_type": "code",
   "execution_count": 9,
   "id": "da4e56a7",
   "metadata": {},
   "outputs": [
    {
     "name": "stdout",
     "output_type": "stream",
     "text": [
      "54321\n",
      "5432\n",
      "543\n",
      "54\n",
      "5\n",
      "\n"
     ]
    }
   ],
   "source": [
    "for i in range(6):\n",
    "    for j in range(5,i,-1):\n",
    "        print(j,end='')\n",
    "    print()"
   ]
  },
  {
   "cell_type": "markdown",
   "id": "918d7111",
   "metadata": {},
   "source": [
    "##### 1.d)"
   ]
  },
  {
   "cell_type": "code",
   "execution_count": 13,
   "id": "8d3b6386",
   "metadata": {},
   "outputs": [
    {
     "name": "stdout",
     "output_type": "stream",
     "text": [
      "12345\n",
      "1234\n",
      "123\n",
      "12\n",
      "1\n"
     ]
    }
   ],
   "source": [
    "for i in range(5,0,-1):\n",
    "    for j in range(1,i+1):\n",
    "        print(j,end='')\n",
    "    print()"
   ]
  },
  {
   "cell_type": "markdown",
   "id": "0728d919",
   "metadata": {},
   "source": [
    "##### 1. e)"
   ]
  },
  {
   "cell_type": "code",
   "execution_count": 2,
   "id": "6f3f3bd9",
   "metadata": {},
   "outputs": [
    {
     "name": "stdout",
     "output_type": "stream",
     "text": [
      "54321\n",
      "4321\n",
      "321\n",
      "21\n",
      "1\n"
     ]
    }
   ],
   "source": [
    "for i in range(5,0,-1):\n",
    "    for j  in range(i):\n",
    "        print(i,end='')\n",
    "        i=i-1\n",
    "    print()"
   ]
  },
  {
   "cell_type": "markdown",
   "id": "ae2891c9",
   "metadata": {},
   "source": [
    "### Looping statement - 5"
   ]
  },
  {
   "cell_type": "markdown",
   "id": "e604fba3",
   "metadata": {},
   "source": [
    "##### 1. a)"
   ]
  },
  {
   "cell_type": "code",
   "execution_count": 14,
   "id": "657c235c",
   "metadata": {},
   "outputs": [
    {
     "name": "stdout",
     "output_type": "stream",
     "text": [
      "*\n",
      "**\n",
      "***\n",
      "****\n",
      "*****\n"
     ]
    }
   ],
   "source": [
    "for i in range(1,6):\n",
    "    for j in range(i):\n",
    "        print('*',end='')\n",
    "    print()"
   ]
  },
  {
   "cell_type": "markdown",
   "id": "7fb185b1",
   "metadata": {},
   "source": [
    "##### 1. b)"
   ]
  },
  {
   "cell_type": "code",
   "execution_count": 18,
   "id": "3876dd0b",
   "metadata": {},
   "outputs": [
    {
     "name": "stdout",
     "output_type": "stream",
     "text": [
      "*****\n",
      "*****\n",
      "*****\n",
      "*****\n",
      "*****\n"
     ]
    }
   ],
   "source": [
    "for i in range(1,6):\n",
    "    for j in range(1,6):\n",
    "        print('*',end='')\n",
    "    print()"
   ]
  },
  {
   "cell_type": "markdown",
   "id": "edde5de8",
   "metadata": {},
   "source": [
    "##### 1. c)"
   ]
  },
  {
   "cell_type": "code",
   "execution_count": 19,
   "id": "be126dd6",
   "metadata": {},
   "outputs": [
    {
     "name": "stdout",
     "output_type": "stream",
     "text": [
      "*****\n",
      "****\n",
      "***\n",
      "**\n",
      "*\n"
     ]
    }
   ],
   "source": [
    "for i in range(5,0,-1):\n",
    "    for j in range(i):\n",
    "        print('*',end='')\n",
    "    print()"
   ]
  },
  {
   "cell_type": "markdown",
   "id": "6500b3e0",
   "metadata": {},
   "source": [
    "##### 1. d)"
   ]
  },
  {
   "cell_type": "code",
   "execution_count": 30,
   "id": "931ea93e",
   "metadata": {},
   "outputs": [
    {
     "name": "stdout",
     "output_type": "stream",
     "text": [
      " *****\n",
      "  ****\n",
      "   ***\n",
      "    **\n",
      "     *\n"
     ]
    }
   ],
   "source": [
    "n = 5\n",
    "for j in range(5):\n",
    "    print(' '*j ,'*'*(n-j))"
   ]
  },
  {
   "cell_type": "markdown",
   "id": "23616e61",
   "metadata": {},
   "source": [
    "##### 1.e)"
   ]
  },
  {
   "cell_type": "code",
   "execution_count": 28,
   "id": "3681e979",
   "metadata": {},
   "outputs": [
    {
     "name": "stdout",
     "output_type": "stream",
     "text": [
      "     *\n",
      "    **\n",
      "   ***\n",
      "  ****\n",
      " *****\n"
     ]
    }
   ],
   "source": [
    "n = 5\n",
    "for j in range(5):\n",
    "    print(' '*(n-1-j),'*'*(j+1))"
   ]
  },
  {
   "cell_type": "markdown",
   "id": "2ad17193",
   "metadata": {},
   "source": [
    "### Looping Statement - 6"
   ]
  },
  {
   "cell_type": "markdown",
   "id": "1e9150b1",
   "metadata": {},
   "source": [
    "##### 1.a)"
   ]
  },
  {
   "cell_type": "code",
   "execution_count": 36,
   "id": "d7a94ec6",
   "metadata": {},
   "outputs": [
    {
     "name": "stdout",
     "output_type": "stream",
     "text": [
      "A\n",
      "AB\n",
      "ABC\n",
      "ABCD\n",
      "ABCDE\n"
     ]
    }
   ],
   "source": [
    "for i in range(1,6):\n",
    "    for j in range(i):\n",
    "        print(chr(65+j),end='')\n",
    "    print()"
   ]
  },
  {
   "cell_type": "markdown",
   "id": "74fee383",
   "metadata": {},
   "source": [
    "##### 1.b)"
   ]
  },
  {
   "cell_type": "code",
   "execution_count": 41,
   "id": "2d6fb831",
   "metadata": {},
   "outputs": [
    {
     "name": "stdout",
     "output_type": "stream",
     "text": [
      "A\n",
      "BB\n",
      "CCC\n",
      "DDDD\n",
      "EEEEE\n"
     ]
    }
   ],
   "source": [
    "for i in range(5):\n",
    "    for j in range(i+1):\n",
    "        print(chr(65+i),end='')\n",
    "    print()"
   ]
  },
  {
   "cell_type": "markdown",
   "id": "c0289a84",
   "metadata": {},
   "source": [
    "##### 1.c)"
   ]
  },
  {
   "cell_type": "code",
   "execution_count": 42,
   "id": "d7cf4971",
   "metadata": {},
   "outputs": [
    {
     "name": "stdout",
     "output_type": "stream",
     "text": [
      "ABCDE\n",
      "ABCD\n",
      "ABC\n",
      "AB\n",
      "A\n"
     ]
    }
   ],
   "source": [
    "for i in range(5,0,-1):\n",
    "    for j in range(i):\n",
    "        print(chr(65+j),end='')\n",
    "    print()"
   ]
  },
  {
   "cell_type": "markdown",
   "id": "bb8f376a",
   "metadata": {},
   "source": [
    "##### 1.d)"
   ]
  },
  {
   "cell_type": "code",
   "execution_count": 45,
   "id": "2f1f6a7d",
   "metadata": {},
   "outputs": [
    {
     "name": "stdout",
     "output_type": "stream",
     "text": [
      "EEEEE\n",
      "DDDD\n",
      "CCC\n",
      "BB\n",
      "A\n"
     ]
    }
   ],
   "source": [
    "for i in range(5,0,-1):\n",
    "    for j in range(i):\n",
    "        print(chr(65+i-1),end='')\n",
    "    print()"
   ]
  },
  {
   "cell_type": "code",
   "execution_count": null,
   "id": "4230c75f",
   "metadata": {},
   "outputs": [],
   "source": []
  }
 ],
 "metadata": {
  "kernelspec": {
   "display_name": "Python 3 (ipykernel)",
   "language": "python",
   "name": "python3"
  },
  "language_info": {
   "codemirror_mode": {
    "name": "ipython",
    "version": 3
   },
   "file_extension": ".py",
   "mimetype": "text/x-python",
   "name": "python",
   "nbconvert_exporter": "python",
   "pygments_lexer": "ipython3",
   "version": "3.9.12"
  }
 },
 "nbformat": 4,
 "nbformat_minor": 5
}
