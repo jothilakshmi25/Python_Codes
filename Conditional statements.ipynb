{
 "cells": [
  {
   "cell_type": "markdown",
   "id": "45efe14f",
   "metadata": {},
   "source": [
    "# Conditional Statement - 1"
   ]
  },
  {
   "cell_type": "markdown",
   "id": "8fe6173d",
   "metadata": {},
   "source": [
    "#### 1.Program to check whether the number is even or odd"
   ]
  },
  {
   "cell_type": "code",
   "execution_count": 1,
   "id": "1ef98e4c",
   "metadata": {},
   "outputs": [
    {
     "name": "stdout",
     "output_type": "stream",
     "text": [
      "Enter the number45\n",
      "The number is Odd\n"
     ]
    }
   ],
   "source": [
    "a = int(input('Enter the number'))\n",
    "if a %2 ==0:\n",
    "    print('The number is Even')\n",
    "else:\n",
    "    print('The number is Odd')"
   ]
  },
  {
   "cell_type": "markdown",
   "id": "5f187e03",
   "metadata": {},
   "source": [
    "#### 2. Program to check whether the alphabet is vowel or consonant"
   ]
  },
  {
   "cell_type": "code",
   "execution_count": 7,
   "id": "9d34f54a",
   "metadata": {},
   "outputs": [
    {
     "name": "stdout",
     "output_type": "stream",
     "text": [
      "Enter the alphabet:-h\n",
      "The alphabet is Consonent\n"
     ]
    }
   ],
   "source": [
    "a= input('Enter the alphabet:-')\n",
    "if a=='a'or a=='A':\n",
    "    print('The alphabet is Vowel')\n",
    "elif a=='e'or a=='E':\n",
    "    print('The alphabet is Vowel')\n",
    "elif a=='i'or a=='I':\n",
    "    print('The alphabet is Vowel')\n",
    "elif a=='o'or a=='O':\n",
    "    print('The alphabet is Vowel')\n",
    "elif a=='u'or a=='U':\n",
    "    print('The alphabet is Vowel')\n",
    "else :\n",
    "    print('The alphabet is Consonent')"
   ]
  },
  {
   "cell_type": "markdown",
   "id": "63f83262",
   "metadata": {},
   "source": [
    "#### 3. Program to check the eligibility to vote"
   ]
  },
  {
   "cell_type": "code",
   "execution_count": 8,
   "id": "0b7dc452",
   "metadata": {},
   "outputs": [
    {
     "name": "stdout",
     "output_type": "stream",
     "text": [
      "Enter the age45\n",
      "The person is eligible to vote\n"
     ]
    }
   ],
   "source": [
    "a = int(input('Enter the age'))\n",
    "if a>=18:\n",
    "    print('The person is eligible to vote')\n",
    "else :\n",
    "    print('The person is not eligible to vote')"
   ]
  },
  {
   "cell_type": "markdown",
   "id": "c96bf570",
   "metadata": {},
   "source": [
    "#### 4.Program to check whether the number is positive, negative or zero"
   ]
  },
  {
   "cell_type": "code",
   "execution_count": 9,
   "id": "b20b521f",
   "metadata": {},
   "outputs": [
    {
     "name": "stdout",
     "output_type": "stream",
     "text": [
      "Enter the number-83\n",
      "The number is negative\n"
     ]
    }
   ],
   "source": [
    "a = int(input('Enter the number'))\n",
    "if a>0:\n",
    "    print('The number is positive')\n",
    "elif a<0:\n",
    "    print('The number is negative')\n",
    "else :\n",
    "    print('The number is Zero')"
   ]
  },
  {
   "cell_type": "markdown",
   "id": "ab372421",
   "metadata": {},
   "source": [
    "#### 5.program to check whether the year is leap or not"
   ]
  },
  {
   "cell_type": "code",
   "execution_count": 11,
   "id": "7d4c9b15",
   "metadata": {},
   "outputs": [
    {
     "name": "stdout",
     "output_type": "stream",
     "text": [
      "Enter the year: 2004\n",
      "2004 is a leap year\n"
     ]
    }
   ],
   "source": [
    "year = int(input('Enter the year: '))\n",
    "if year%400==0 and year%100==0:\n",
    "    print(year,'is a leap year')\n",
    "elif year%4==0 and year%100!=0:\n",
    "    print(year,'is a leap year')\n",
    "else:\n",
    "    print(year,'is not a leap year')"
   ]
  },
  {
   "cell_type": "markdown",
   "id": "f7919733",
   "metadata": {},
   "source": [
    "#### 6. Program to check whether the triangle is equilateral,isosceles or scalene "
   ]
  },
  {
   "cell_type": "code",
   "execution_count": 12,
   "id": "2aa83c32",
   "metadata": {},
   "outputs": [
    {
     "name": "stdout",
     "output_type": "stream",
     "text": [
      "Enter the 1st side:4\n",
      "Enter the 2nd side:5\n",
      "Enter the 3rd side:6\n",
      "The Triangle is Scalene\n"
     ]
    }
   ],
   "source": [
    "a = int(input('Enter the 1st side:'))\n",
    "b = int(input('Enter the 2nd side:'))\n",
    "c = int(input('Enter the 3rd side:'))\n",
    "if a==b==c:\n",
    "    print('The Triangle is equilateral')\n",
    "elif a==b or a==c or b==c:\n",
    "    print('The Triangle is Isosceles')\n",
    "else:\n",
    "    print('The Triangle is Scalene')"
   ]
  },
  {
   "cell_type": "markdown",
   "id": "602f8832",
   "metadata": {},
   "source": [
    "#### 7. Program to check whether profit or loss"
   ]
  },
  {
   "cell_type": "code",
   "execution_count": 13,
   "id": "89ff682d",
   "metadata": {},
   "outputs": [
    {
     "name": "stdout",
     "output_type": "stream",
     "text": [
      "Enter the selling price: 950\n",
      "Enter the cost price: 1000\n",
      "Loss is  50.0\n"
     ]
    }
   ],
   "source": [
    "sp = float(input('Enter the selling price: '))\n",
    "cp = float(input('Enter the cost price: '))\n",
    "if sp>cp:\n",
    "    print('Profit is ',sp-cp)\n",
    "elif sp<cp:\n",
    "    print('Loss is ',cp-sp)\n",
    "else:\n",
    "    print('Neither profit not loss')"
   ]
  },
  {
   "cell_type": "markdown",
   "id": "56b93ee4",
   "metadata": {},
   "source": [
    "# Conditional Statement - 2"
   ]
  },
  {
   "cell_type": "markdown",
   "id": "d79ccd54",
   "metadata": {},
   "source": [
    "#### 1.program to find the greatest between the numbers"
   ]
  },
  {
   "cell_type": "code",
   "execution_count": 14,
   "id": "33519ffa",
   "metadata": {},
   "outputs": [
    {
     "name": "stdout",
     "output_type": "stream",
     "text": [
      "Enter the 1st number45\n",
      "Enter the 2nd number39\n",
      "The greatest number is  45\n"
     ]
    }
   ],
   "source": [
    "a = int(input('Enter the 1st number'))\n",
    "b = int(input('Enter the 2nd number'))\n",
    "if a>b:\n",
    "    print('The greatest number is ',a)\n",
    "else:\n",
    "    print('The greatest number is ',b)"
   ]
  },
  {
   "cell_type": "markdown",
   "id": "31f6fca5",
   "metadata": {},
   "source": [
    "#### 2.Program to find the smallest between the numbers"
   ]
  },
  {
   "cell_type": "code",
   "execution_count": 15,
   "id": "197d5658",
   "metadata": {},
   "outputs": [
    {
     "name": "stdout",
     "output_type": "stream",
     "text": [
      "Enter the 1st number12\n",
      "Enter the 2nd number5\n",
      "The smallest number is  5\n"
     ]
    }
   ],
   "source": [
    "a = int(input('Enter the 1st number'))\n",
    "b = int(input('Enter the 2nd number'))\n",
    "if a<b:\n",
    "    print('The smallest number is ',a)\n",
    "else:\n",
    "    print('The smallest number is ',b)"
   ]
  },
  {
   "cell_type": "markdown",
   "id": "f67f9dfd",
   "metadata": {},
   "source": [
    "#### 3. Program to find the greatest in three numbers"
   ]
  },
  {
   "cell_type": "code",
   "execution_count": 1,
   "id": "3f2d1f24",
   "metadata": {},
   "outputs": [
    {
     "name": "stdout",
     "output_type": "stream",
     "text": [
      "Enter the 1st number36\n",
      "Enter the 2nd number46\n",
      "Enter the 3rd number87\n",
      "The greatest number is  87\n"
     ]
    }
   ],
   "source": [
    "a = int(input('Enter the 1st number'))\n",
    "b = int(input('Enter the 2nd number'))\n",
    "c = int(input('Enter the 3rd number'))\n",
    "if a>b and a>c:\n",
    "    print('The greatest number is ',a)\n",
    "elif a<b and c<b:\n",
    "    print('The greatest number is ',b)\n",
    "else:\n",
    "    print('The greatest number is ',c)"
   ]
  },
  {
   "cell_type": "markdown",
   "id": "764cdf57",
   "metadata": {},
   "source": [
    "#### 4. Program to find the smallest in three numbers"
   ]
  },
  {
   "cell_type": "code",
   "execution_count": 2,
   "id": "c4422f00",
   "metadata": {},
   "outputs": [
    {
     "name": "stdout",
     "output_type": "stream",
     "text": [
      "Enter the 1st number77\n",
      "Enter the 2nd number59\n",
      "Enter the 3rd number60\n",
      "The smallest number is  59\n"
     ]
    }
   ],
   "source": [
    "a = int(input('Enter the 1st number'))\n",
    "b = int(input('Enter the 2nd number'))\n",
    "c = int(input('Enter the 3rd number'))\n",
    "if a<b and a<c:\n",
    "    print('The smallest number is ',a)\n",
    "elif a>b and c>b:\n",
    "    print('The smallest number is ',b)\n",
    "else:\n",
    "    print('The smallest number is ',c)"
   ]
  },
  {
   "cell_type": "markdown",
   "id": "81dbefd3",
   "metadata": {},
   "source": [
    "#### 5. Program to find the roots of the quadratic equation"
   ]
  },
  {
   "cell_type": "code",
   "execution_count": 4,
   "id": "d448f886",
   "metadata": {},
   "outputs": [
    {
     "name": "stdout",
     "output_type": "stream",
     "text": [
      "coefficient  a is:2\n",
      "coefficient b is:-4\n",
      "constant c is:3\n",
      "The root1 of the quadratic equation is :  1.0 + (0.7071067811865476+0j)\n",
      "The root2 of the quadratic equation is :  1.0 - (0.7071067811865476+0j)\n"
     ]
    }
   ],
   "source": [
    "import cmath\n",
    "a = int(input('coefficient  a is:'))\n",
    "b = int(input('coefficient b is:'))\n",
    "c = int(input('constant c is:'))\n",
    "discriminant = (b**2 -4*a*c)\n",
    "if discriminant>0:\n",
    "    root1 = (-b+ cmath.sqrt(discriminant))/(2*a)\n",
    "    root2 = (-b-cmath.sqrt(discriminant))/(2*a)\n",
    "    print('The roots of the quadratic equation are : ',root1,root2)\n",
    "elif discriminant ==0:\n",
    "    root1 = root2 = (-b)/(2*a)\n",
    "    print('The roots of the quadratic equation are : ',root1,root2)\n",
    "else:\n",
    "    real_part=(-b)/(2*a)\n",
    "    imag_part = cmath.sqrt(-discriminant) / (2 * a)\n",
    "    print('The root1 of the quadratic equation is : ',real_part ,'+',imag_part)\n",
    "    print('The root2 of the quadratic equation is : ',real_part ,'-',imag_part)"
   ]
  },
  {
   "cell_type": "markdown",
   "id": "f8069241",
   "metadata": {},
   "source": [
    "#### 6.Program to repective the days on the week"
   ]
  },
  {
   "cell_type": "code",
   "execution_count": 5,
   "id": "5b98b3a8",
   "metadata": {},
   "outputs": [
    {
     "name": "stdout",
     "output_type": "stream",
     "text": [
      "Enter the value7\n",
      "Saturday\n"
     ]
    }
   ],
   "source": [
    "a = int(input('Enter the value'))\n",
    "if a==1:\n",
    "    print('Sunday')\n",
    "elif a==2:\n",
    "    print('Monday')\n",
    "elif a==3:\n",
    "    print('Tuesday')\n",
    "elif a==4:\n",
    "    print('Wednesday')\n",
    "elif a==5:\n",
    "    print('Thursday')\n",
    "elif a==6:\n",
    "    print('Friday')\n",
    "elif a==7:\n",
    "    print('Saturday')\n",
    "else:\n",
    "    print('Invalid input')"
   ]
  },
  {
   "cell_type": "markdown",
   "id": "6a715c2f",
   "metadata": {},
   "source": [
    "# Conditional Statement -3 "
   ]
  },
  {
   "cell_type": "markdown",
   "id": "fdbb86e7",
   "metadata": {},
   "source": [
    "#### 1.Program to print the respective month of the year"
   ]
  },
  {
   "cell_type": "code",
   "execution_count": 7,
   "id": "950fa7a4",
   "metadata": {},
   "outputs": [
    {
     "name": "stdout",
     "output_type": "stream",
     "text": [
      "Enter the number5\n",
      "May\n"
     ]
    }
   ],
   "source": [
    "a = int(input('Enter the number'))\n",
    "if a==1:\n",
    "    print('January')\n",
    "elif a==2:\n",
    "    print('February')\n",
    "elif a==3:\n",
    "    print('March')\n",
    "elif a==4:\n",
    "    print('April')\n",
    "elif a==5:\n",
    "    print('May')\n",
    "elif a==6:\n",
    "    print('June')\n",
    "elif a==7:\n",
    "    print('July')\n",
    "elif a==8:\n",
    "    print('August')\n",
    "elif a==9:\n",
    "    print('September')\n",
    "elif a==10:\n",
    "    print('October')\n",
    "elif a==11:\n",
    "    print('November')\n",
    "elif a==12:\n",
    "    print('December')\n",
    "else:\n",
    "    print('Invalid input')"
   ]
  },
  {
   "cell_type": "markdown",
   "id": "e7396aea",
   "metadata": {},
   "source": [
    "#### 2. Program using Arithmetic operation"
   ]
  },
  {
   "cell_type": "code",
   "execution_count": 8,
   "id": "c6234979",
   "metadata": {},
   "outputs": [
    {
     "name": "stdout",
     "output_type": "stream",
     "text": [
      "Enter the first number75\n",
      "Enter the second number48\n",
      "Enter the operation2\n",
      "The subtraction is  27\n"
     ]
    }
   ],
   "source": [
    "a = int(input('Enter the first number'))\n",
    "b= int(input('Enter the second number'))\n",
    "i = int (input('Enter the operation'))\n",
    "if i==1:\n",
    "    print('The addition is ',a+b)\n",
    "elif i==2:\n",
    "    print('The subtraction is ',a-b)\n",
    "elif i==3:\n",
    "    print('The multiplication is ',a*b)\n",
    "elif i==4:\n",
    "    print('The division is ',a/b)\n",
    "else:\n",
    "    print('Invalid Input')"
   ]
  },
  {
   "cell_type": "markdown",
   "id": "5b9b05a0",
   "metadata": {},
   "source": [
    "#### 3.Program to convert the temperature"
   ]
  },
  {
   "cell_type": "code",
   "execution_count": 12,
   "id": "3e05039b",
   "metadata": {},
   "outputs": [
    {
     "name": "stdout",
     "output_type": "stream",
     "text": [
      "Enter the temperature value14\n",
      "Enter the process type1\n",
      "-10.0\n"
     ]
    }
   ],
   "source": [
    "temp = float(input(\"Enter the temperature value\"))\n",
    "i = int(input('Enter the process type'))\n",
    "if i == 1:\n",
    "    celsius = (temp -32)/1.8\n",
    "    print(celsius)\n",
    "elif i ==2:\n",
    "    fahrenheit = temp * 1.8+32\n",
    "    print(fahrenheit)\n",
    "else:\n",
    "    print('Invalid Input, takes value i = 1 or 2 to find the celcius or fahrenheit')"
   ]
  },
  {
   "cell_type": "markdown",
   "id": "717da4c9",
   "metadata": {},
   "source": [
    "# Conditional Statement - 4"
   ]
  },
  {
   "cell_type": "markdown",
   "id": "235034d5",
   "metadata": {},
   "source": [
    "#### 1. Program to find the net bonus"
   ]
  },
  {
   "cell_type": "code",
   "execution_count": 16,
   "id": "008dcf31",
   "metadata": {},
   "outputs": [
    {
     "name": "stdout",
     "output_type": "stream",
     "text": [
      "Enter the Salary: 80000\n",
      "Enter the total number of years: 5.1\n",
      "The net bonus amount is : 4000.0\n"
     ]
    }
   ],
   "source": [
    "x = float(input('Enter the Salary: '))\n",
    "n = float(input('Enter the total number of years: '))\n",
    "if n>5:\n",
    "    x1= x*5/100\n",
    "    print('The net bonus amount is :',x1)\n",
    "else:\n",
    "    print('Employee should have more than 5 years to get bonus')"
   ]
  },
  {
   "cell_type": "markdown",
   "id": "b8bb9708",
   "metadata": {},
   "source": [
    "#### 2. Program to check whether the rectangle is square or not"
   ]
  },
  {
   "cell_type": "code",
   "execution_count": 18,
   "id": "bdc2e01a",
   "metadata": {},
   "outputs": [
    {
     "name": "stdout",
     "output_type": "stream",
     "text": [
      "Enter the length:4\n",
      "Enter the breadth: 4\n",
      "The rectangle is a square\n"
     ]
    }
   ],
   "source": [
    "a = float(input('Enter the length:'))\n",
    "b= float(input('Enter the breadth: '))\n",
    "if a==b:\n",
    "    print('The rectangle is a square')\n",
    "else:\n",
    "    print('The rectangle is not a square')"
   ]
  },
  {
   "cell_type": "markdown",
   "id": "a9472ced",
   "metadata": {},
   "source": [
    "#### 3. Program to find the oldest and youngest in three people"
   ]
  },
  {
   "cell_type": "code",
   "execution_count": 19,
   "id": "5a37cb75",
   "metadata": {},
   "outputs": [
    {
     "name": "stdout",
     "output_type": "stream",
     "text": [
      "Enter the X age: 45\n",
      "Enter the Y age: 85\n",
      "Enter the Z age: 75\n",
      "Y is the oldest among them\n",
      "X is the youngest among them\n"
     ]
    }
   ],
   "source": [
    "x = float(input('Enter the X age: '))\n",
    "y = float(input('Enter the Y age: '))\n",
    "z= float(input('Enter the Z age: '))\n",
    "if x>y and x>z:\n",
    "    print('X is the oldest among them')\n",
    "    if y<z:\n",
    "        print('Y is the youngest among them')\n",
    "    else:\n",
    "        print('Z is the youngest among them')\n",
    "elif y>x and y>z:\n",
    "    print('Y is the oldest among them')\n",
    "    if x<z:\n",
    "        print('X is the youngest among them')\n",
    "    else:\n",
    "        print('Z is the youngest among them')\n",
    "else:\n",
    "    print('Z is the oldest among them')\n",
    "    if x<y:\n",
    "        print('X is the youngest among them')\n",
    "    else:\n",
    "        print('Y is the youngest among them')"
   ]
  },
  {
   "cell_type": "markdown",
   "id": "2d677972",
   "metadata": {},
   "source": [
    "# Conditional Statement - 5"
   ]
  },
  {
   "cell_type": "code",
   "execution_count": 21,
   "id": "82aa1055",
   "metadata": {},
   "outputs": [
    {
     "name": "stdout",
     "output_type": "stream",
     "text": [
      "Enter the Mark: 48.5\n",
      "The grade for given mark is : D\n"
     ]
    }
   ],
   "source": [
    "mark = float(input('Enter the Mark: '))\n",
    "if mark<25:\n",
    "    print('The grade for given mark is : F')\n",
    "elif 25<=mark<45:\n",
    "    print('The grade for given mark is : E')\n",
    "elif 45<=mark<50:\n",
    "    print('The grade for given mark is : D')\n",
    "elif 50<=mark<60:\n",
    "    print('The grade for given mark is : C')\n",
    "elif 60<=mark<80:\n",
    "    print('The grade for given mark is : B')\n",
    "else:\n",
    "    print('The grade for given mark is : E')"
   ]
  },
  {
   "cell_type": "code",
   "execution_count": null,
   "id": "fee30c26",
   "metadata": {},
   "outputs": [],
   "source": []
  }
 ],
 "metadata": {
  "kernelspec": {
   "display_name": "Python 3 (ipykernel)",
   "language": "python",
   "name": "python3"
  },
  "language_info": {
   "codemirror_mode": {
    "name": "ipython",
    "version": 3
   },
   "file_extension": ".py",
   "mimetype": "text/x-python",
   "name": "python",
   "nbconvert_exporter": "python",
   "pygments_lexer": "ipython3",
   "version": "3.9.12"
  }
 },
 "nbformat": 4,
 "nbformat_minor": 5
}
