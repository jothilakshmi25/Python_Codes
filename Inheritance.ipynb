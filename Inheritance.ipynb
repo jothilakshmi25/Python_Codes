{
 "cells": [
  {
   "cell_type": "markdown",
   "id": "7302e061",
   "metadata": {},
   "source": [
    "##### 1) Create a class Employee that inherits from the Person class. The Employee class should have an additional attribute called employee_id and a method called display_employee_info that prints out the employee's name, age, gender and employee_id."
   ]
  },
  {
   "cell_type": "code",
   "execution_count": 1,
   "id": "a9355093",
   "metadata": {},
   "outputs": [],
   "source": [
    "class Person:\n",
    "    def __init__(self,name,age,gender):\n",
    "        self.n=name\n",
    "        self.a=age\n",
    "        self.g=gender\n",
    "        \n",
    "    def Introduce(self):\n",
    "        print('Name : ',self.n)\n",
    "        print('Age : ',self.a)\n",
    "        print('Gender : ',self.g)\n",
    "        \n",
    "        \n",
    "class Employee(Person):\n",
    "    def __init__(self,name,age,gender,employee_id):\n",
    "        Person.__init__(self,name,age,gender)\n",
    "        self.e=employee_id\n",
    "        \n",
    "    def display_employee_info(self):\n",
    "        print('Employee ID : ',self.e)"
   ]
  },
  {
   "cell_type": "code",
   "execution_count": 2,
   "id": "5e4ac3e6",
   "metadata": {},
   "outputs": [
    {
     "name": "stdout",
     "output_type": "stream",
     "text": [
      "Name :  Jothi\n",
      "Age :  24\n",
      "Gender :  Female\n",
      "Employee ID :  12345\n"
     ]
    }
   ],
   "source": [
    "x=Employee('Jothi',24,'Female',12345)\n",
    "x.Introduce()\n",
    "x.display_employee_info()"
   ]
  },
  {
   "cell_type": "markdown",
   "id": "a4cd9e1a",
   "metadata": {},
   "source": [
    "##### 2) Create a class called Car that inherits from Vehicle class. The Car class should have an additional attribute called num_doors and a method called lock_doors that prints out a message indicating that the doors have been locked."
   ]
  },
  {
   "cell_type": "code",
   "execution_count": 3,
   "id": "d62f1bb1",
   "metadata": {},
   "outputs": [],
   "source": [
    "class Vehicle:\n",
    "    def __init__(self, make, model, year):\n",
    "        self.make = make\n",
    "        self.model = model\n",
    "        self.year = year\n",
    "    def start_engine(self):\n",
    "        print('Make : ',self.make)\n",
    "        print('Model : ',self.model)\n",
    "        print('Year : ',self.year)\n",
    "        \n",
    "\n",
    "class Car(Vehicle):\n",
    "    def __init__(self, make, model, year, num_doors):\n",
    "        Vehicle.__init__(self,make, model, year)\n",
    "        self.num_doors = num_doors\n",
    "    \n",
    "    def lock_doors(self):\n",
    "        print(\"Doors have been locked\",self.num_doors)"
   ]
  },
  {
   "cell_type": "code",
   "execution_count": 4,
   "id": "0a550992",
   "metadata": {},
   "outputs": [
    {
     "name": "stdout",
     "output_type": "stream",
     "text": [
      "Make :  Thar\n",
      "Model :  LX\n",
      "Year :  2023\n",
      "Doors have been locked 2\n"
     ]
    }
   ],
   "source": [
    "c=Car('Thar','LX',2023,2)\n",
    "c.start_engine()\n",
    "c.lock_doors()"
   ]
  },
  {
   "cell_type": "markdown",
   "id": "7732e298",
   "metadata": {},
   "source": [
    "##### 3) Creatre a class called Cylinder that inherits from Circle class. The Cylinder class should have an additional attribute called height and a method called get_volume that calculates and returns the volume of the cylinder."
   ]
  },
  {
   "cell_type": "code",
   "execution_count": 5,
   "id": "4c47a5ac",
   "metadata": {},
   "outputs": [],
   "source": [
    "class Circle:\n",
    "    def __init__(self,radius):\n",
    "        self.r=radius\n",
    "        \n",
    "    def Area(self):\n",
    "        print('Area of the Circle : ',3.14*self.r)\n",
    "        \n",
    "    def Circumference(self):\n",
    "        print('Circumference of the Circle: ',2*3.14*self.r)\n",
    "        \n",
    "\n",
    "class Cylinder(Circle):\n",
    "    def __init__(self,radius,height):\n",
    "        Circle.__init__(self,radius)\n",
    "        self.h = height\n",
    "        \n",
    "    def get_volume(self):\n",
    "        print('The Volume of the Cylinder: ',3.14*self.r*self.r*self.h)"
   ]
  },
  {
   "cell_type": "code",
   "execution_count": 6,
   "id": "c1c57685",
   "metadata": {},
   "outputs": [
    {
     "name": "stdout",
     "output_type": "stream",
     "text": [
      "Area of the Circle :  16.956000000000003\n",
      "Circumference of the Circle:  33.912000000000006\n",
      "The Volume of the Cylinder:  732.4992000000002\n"
     ]
    }
   ],
   "source": [
    "x=Cylinder(5.4,8)\n",
    "x.Area()\n",
    "x.Circumference()\n",
    "x.get_volume()"
   ]
  },
  {
   "cell_type": "code",
   "execution_count": null,
   "id": "24283b4f",
   "metadata": {},
   "outputs": [],
   "source": []
  }
 ],
 "metadata": {
  "kernelspec": {
   "display_name": "Python 3 (ipykernel)",
   "language": "python",
   "name": "python3"
  },
  "language_info": {
   "codemirror_mode": {
    "name": "ipython",
    "version": 3
   },
   "file_extension": ".py",
   "mimetype": "text/x-python",
   "name": "python",
   "nbconvert_exporter": "python",
   "pygments_lexer": "ipython3",
   "version": "3.9.12"
  }
 },
 "nbformat": 4,
 "nbformat_minor": 5
}
