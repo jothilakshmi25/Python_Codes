{
 "cells": [
  {
   "cell_type": "markdown",
   "id": "9fb0ebb7",
   "metadata": {},
   "source": [
    "# Basic Input Output - 1"
   ]
  },
  {
   "cell_type": "markdown",
   "id": "8a9e2a33",
   "metadata": {},
   "source": [
    "### 1.Print a program to yourself introduction"
   ]
  },
  {
   "cell_type": "code",
   "execution_count": 1,
   "id": "742f3768",
   "metadata": {},
   "outputs": [
    {
     "name": "stdout",
     "output_type": "stream",
     "text": [
      "Enter your nameJothilakshmi\n",
      "Hi,This is Jothilakshmi\n"
     ]
    }
   ],
   "source": [
    "name = input(\"Enter your name\")\n",
    "print(\"Hi,This is\",name)"
   ]
  },
  {
   "cell_type": "markdown",
   "id": "4408d082",
   "metadata": {},
   "source": [
    "### 2.Program using arithmetic operations"
   ]
  },
  {
   "cell_type": "code",
   "execution_count": 3,
   "id": "57d59bd4",
   "metadata": {},
   "outputs": [
    {
     "name": "stdout",
     "output_type": "stream",
     "text": [
      "Enter the first number25\n",
      "Enter the second number5\n",
      "Addition 30\n",
      "Subtraction 20\n",
      "Multiplication 125\n",
      "Division 5.0\n",
      "Modulus 0\n",
      "Exponent 9765625\n"
     ]
    }
   ],
   "source": [
    "a = int (input('Enter the first number'))\n",
    "b = int (input('Enter the second number'))\n",
    "print(\"Addition\",a+b)\n",
    "print(\"Subtraction\",a-b)\n",
    "print(\"Multiplication\",a*b)\n",
    "print(\"Division\",a/b)\n",
    "print(\"Modulus\",a%b)\n",
    "print(\"Exponent\",a**b)"
   ]
  },
  {
   "cell_type": "markdown",
   "id": "9cf7b28e",
   "metadata": {},
   "source": [
    "# Basic Input Output - 2"
   ]
  },
  {
   "cell_type": "markdown",
   "id": "78fd7caf",
   "metadata": {},
   "source": [
    "### 1.Program to swap two numbers"
   ]
  },
  {
   "cell_type": "code",
   "execution_count": 4,
   "id": "1d3cd6ed",
   "metadata": {},
   "outputs": [
    {
     "name": "stdout",
     "output_type": "stream",
     "text": [
      "Enter the first number120\n",
      "Enter the second number365\n",
      "The value of x before swap 120\n",
      "The value of y before swap 365\n",
      "The value of x after swap 365\n",
      "The value of y after swap 120\n"
     ]
    }
   ],
   "source": [
    "x = int(input(\"Enter the first number\"))\n",
    "y = int(input(\"Enter the second number\"))\n",
    "\n",
    "print('The value of x before swap',x)\n",
    "print('The value of y before swap',y)\n",
    "\n",
    "swap = x\n",
    "x = y\n",
    "y = swap\n",
    "\n",
    "print('The value of x after swap',x)\n",
    "print('The value of y after swap',y)"
   ]
  },
  {
   "cell_type": "markdown",
   "id": "89063cd4",
   "metadata": {},
   "source": [
    "### 2. Program to swap two numbers without third variable"
   ]
  },
  {
   "cell_type": "code",
   "execution_count": 5,
   "id": "1ab98525",
   "metadata": {},
   "outputs": [
    {
     "name": "stdout",
     "output_type": "stream",
     "text": [
      "Enter the first number10\n",
      "Enter the second number5\n",
      "The value of x before swap 10\n",
      "The value of y before swap 5\n",
      "The value of x after swap 5\n",
      "The value of y after swap 10\n"
     ]
    }
   ],
   "source": [
    "x = int(input(\"Enter the first number\"))\n",
    "y = int(input(\"Enter the second number\"))\n",
    "\n",
    "print('The value of x before swap',x)\n",
    "print('The value of y before swap',y)\n",
    "\n",
    "x = x+y\n",
    "y = x-y\n",
    "x = x-y\n",
    "\n",
    "print('The value of x after swap',x)\n",
    "print('The value of y after swap',y)"
   ]
  },
  {
   "cell_type": "markdown",
   "id": "e15d4d93",
   "metadata": {},
   "source": [
    "### 3.Program to compute Simple Interest"
   ]
  },
  {
   "cell_type": "code",
   "execution_count": 6,
   "id": "e07328bc",
   "metadata": {},
   "outputs": [
    {
     "name": "stdout",
     "output_type": "stream",
     "text": [
      "Enter the principle25000\n",
      "Enter the number of year5\n",
      "Enter the rate of interest2\n",
      "2500.0\n"
     ]
    }
   ],
   "source": [
    "Principle= int(input('Enter the principle'))\n",
    "n = int(input('Enter the number of year'))\n",
    "r = int(input('Enter the rate of interest'))\n",
    "SI =Principle*n*r/100\n",
    "print(SI)"
   ]
  },
  {
   "cell_type": "markdown",
   "id": "98d7a6e9",
   "metadata": {},
   "source": [
    "### 4.Program to find average of five numbers using user input"
   ]
  },
  {
   "cell_type": "code",
   "execution_count": 7,
   "id": "5ae9cb4e",
   "metadata": {},
   "outputs": [
    {
     "name": "stdout",
     "output_type": "stream",
     "text": [
      "Enter the 1st number26\n",
      "Enter the 2nd number35\n",
      "Enter the 3rd number48\n",
      "Enter the 4th number68\n",
      "Enter the 5th number59\n",
      "47.2\n"
     ]
    }
   ],
   "source": [
    "a=int(input(\"Enter the 1st number\"))\n",
    "b=int(input(\"Enter the 2nd number\"))\n",
    "c=int(input(\"Enter the 3rd number\"))\n",
    "d=int(input(\"Enter the 4th number\"))\n",
    "e=int(input(\"Enter the 5th number\"))\n",
    "print((a+b+c+d+e)/5)"
   ]
  },
  {
   "cell_type": "markdown",
   "id": "48192542",
   "metadata": {},
   "source": [
    "### 5. Program to calculate the discriminant of a quadratic equation"
   ]
  },
  {
   "cell_type": "code",
   "execution_count": 1,
   "id": "d2b3bce6",
   "metadata": {},
   "outputs": [
    {
     "name": "stdout",
     "output_type": "stream",
     "text": [
      "coefficient  a is:4\n",
      "coefficient b is:2\n",
      "constant c is:1\n",
      "The discriminant of a quadratic equation is : -24.0\n"
     ]
    }
   ],
   "source": [
    "# ax^2+bx+c is the quadratic equation\n",
    "\n",
    "a = int(input('coefficient  a is:'))\n",
    "b = int(input('coefficient b is:'))\n",
    "c = int(input('constant c is:'))\n",
    "dis = (b**2 -4*a*c)/2*a\n",
    "print('The discriminant of a quadratic equation is :',dis)"
   ]
  },
  {
   "cell_type": "markdown",
   "id": "0e7cca11",
   "metadata": {},
   "source": [
    "# Basic Input Output - 3"
   ]
  },
  {
   "cell_type": "markdown",
   "id": "07342b37",
   "metadata": {},
   "source": [
    "### 1.Program to calculate the area"
   ]
  },
  {
   "cell_type": "code",
   "execution_count": 2,
   "id": "cc51da60",
   "metadata": {},
   "outputs": [
    {
     "name": "stdout",
     "output_type": "stream",
     "text": [
      "Enter the length5\n",
      "Enter the width6\n",
      "Area of the rectangle 30\n"
     ]
    }
   ],
   "source": [
    "# Area of rectangle\n",
    "\n",
    "a = int(input('Enter the length'))\n",
    "b = int(input('Enter the width'))\n",
    "print('Area of the rectangle',a*b)"
   ]
  },
  {
   "cell_type": "code",
   "execution_count": 5,
   "id": "65a40776",
   "metadata": {},
   "outputs": [
    {
     "name": "stdout",
     "output_type": "stream",
     "text": [
      "sides of the square5\n",
      "Area of the square 25\n"
     ]
    }
   ],
   "source": [
    "# Area of the square\n",
    "\n",
    "a = int(input('sides of the square'))\n",
    "print('Area of the square',a**2)"
   ]
  },
  {
   "cell_type": "code",
   "execution_count": 6,
   "id": "bc04f63a",
   "metadata": {},
   "outputs": [
    {
     "name": "stdout",
     "output_type": "stream",
     "text": [
      "Enter the base value4\n",
      "Enter the height8\n",
      "Area of the Triangle 16.0\n"
     ]
    }
   ],
   "source": [
    "# Area of the triangle\n",
    "\n",
    "b = int(input('Enter the base value'))\n",
    "h = int(input('Enter the height'))\n",
    "a= 1/2*(b*h)\n",
    "print('Area of the Triangle',a)"
   ]
  },
  {
   "cell_type": "code",
   "execution_count": 8,
   "id": "d58af1eb",
   "metadata": {},
   "outputs": [
    {
     "name": "stdout",
     "output_type": "stream",
     "text": [
      "Enter the radius:7\n",
      "Area of the Circle 153.86\n"
     ]
    }
   ],
   "source": [
    "# Area of the Circle\n",
    "\n",
    "r = int(input('Enter the radius:'))\n",
    "a = 3.14 *r**2\n",
    "print('Area of the Circle',a)"
   ]
  },
  {
   "cell_type": "markdown",
   "id": "50ac4e3d",
   "metadata": {},
   "source": [
    "### 2. Program to find the net salary"
   ]
  },
  {
   "cell_type": "code",
   "execution_count": 10,
   "id": "e7032ab1",
   "metadata": {},
   "outputs": [
    {
     "name": "stdout",
     "output_type": "stream",
     "text": [
      "Enter the Basic pay:40000\n",
      "net salary : 43600.0\n"
     ]
    }
   ],
   "source": [
    "Basic_pay = int(input('Enter the Basic pay:'))\n",
    "DA = (5/100)*(Basic_pay)\n",
    "HRA = (7/100)* (Basic_pay)\n",
    "PF = (3/100)*(Basic_pay)\n",
    "net_salary = Basic_pay+DA+HRA - PF\n",
    "print('net salary :',net_salary)"
   ]
  },
  {
   "cell_type": "markdown",
   "id": "0853f8a7",
   "metadata": {},
   "source": [
    "### 3. Program to calculate the power of the number"
   ]
  },
  {
   "cell_type": "code",
   "execution_count": 11,
   "id": "29231ddc",
   "metadata": {},
   "outputs": [
    {
     "name": "stdout",
     "output_type": "stream",
     "text": [
      "Enter the number5\n",
      "Enter the power value3\n",
      "The power of the number 5 is: 125\n"
     ]
    }
   ],
   "source": [
    "i = int(input('Enter the number'))\n",
    "p= int(input('Enter the power value'))\n",
    "print('The power of the number',i ,'is:',i**p)"
   ]
  },
  {
   "cell_type": "markdown",
   "id": "a09c2d64",
   "metadata": {},
   "source": [
    "### 4. Program to get the python version"
   ]
  },
  {
   "cell_type": "code",
   "execution_count": 15,
   "id": "24913a34",
   "metadata": {},
   "outputs": [
    {
     "name": "stdout",
     "output_type": "stream",
     "text": [
      "3.9.12\n"
     ]
    }
   ],
   "source": [
    "from platform import python_version\n",
    "print(python_version())"
   ]
  },
  {
   "cell_type": "code",
   "execution_count": null,
   "id": "37ddc69a",
   "metadata": {},
   "outputs": [],
   "source": []
  }
 ],
 "metadata": {
  "kernelspec": {
   "display_name": "Python 3 (ipykernel)",
   "language": "python",
   "name": "python3"
  },
  "language_info": {
   "codemirror_mode": {
    "name": "ipython",
    "version": 3
   },
   "file_extension": ".py",
   "mimetype": "text/x-python",
   "name": "python",
   "nbconvert_exporter": "python",
   "pygments_lexer": "ipython3",
   "version": "3.9.12"
  }
 },
 "nbformat": 4,
 "nbformat_minor": 5
}
